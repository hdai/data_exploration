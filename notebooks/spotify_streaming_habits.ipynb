{
 "cells": [
  {
   "cell_type": "code",
   "execution_count": 1,
   "metadata": {},
   "outputs": [],
   "source": [
    "import numpy as np\n",
    "import pandas as pd\n",
    "import seaborn as sns\n",
    "import matplotlib.pyplot as plt\n",
    "%matplotlib inline\n",
    "sns.set(style=\"whitegrid\")\n",
    "plt.style.use('ggplot')"
   ]
  },
  {
   "cell_type": "code",
   "execution_count": 2,
   "metadata": {},
   "outputs": [],
   "source": [
    "streams_df = pd.read_json(\"../data/spotify/StreamingHistory.json\")"
   ]
  },
  {
   "cell_type": "code",
   "execution_count": 3,
   "metadata": {},
   "outputs": [
    {
     "data": {
      "text/html": [
       "<div>\n",
       "<style scoped>\n",
       "    .dataframe tbody tr th:only-of-type {\n",
       "        vertical-align: middle;\n",
       "    }\n",
       "\n",
       "    .dataframe tbody tr th {\n",
       "        vertical-align: top;\n",
       "    }\n",
       "\n",
       "    .dataframe thead th {\n",
       "        text-align: right;\n",
       "    }\n",
       "</style>\n",
       "<table border=\"1\" class=\"dataframe\">\n",
       "  <thead>\n",
       "    <tr style=\"text-align: right;\">\n",
       "      <th></th>\n",
       "      <th>artistName</th>\n",
       "      <th>endTime</th>\n",
       "      <th>msPlayed</th>\n",
       "      <th>trackName</th>\n",
       "    </tr>\n",
       "  </thead>\n",
       "  <tbody>\n",
       "    <tr>\n",
       "      <th>0</th>\n",
       "      <td>Loud Luxury</td>\n",
       "      <td>2018-09-20 00:50</td>\n",
       "      <td>43263</td>\n",
       "      <td>Body (feat. brando)</td>\n",
       "    </tr>\n",
       "    <tr>\n",
       "      <th>1</th>\n",
       "      <td>Sia</td>\n",
       "      <td>2018-09-20 00:50</td>\n",
       "      <td>2645</td>\n",
       "      <td>Thunderclouds</td>\n",
       "    </tr>\n",
       "    <tr>\n",
       "      <th>2</th>\n",
       "      <td>Kanye West</td>\n",
       "      <td>2018-09-20 00:50</td>\n",
       "      <td>15346</td>\n",
       "      <td>I Love It (&amp; Lil Pump)</td>\n",
       "    </tr>\n",
       "    <tr>\n",
       "      <th>3</th>\n",
       "      <td>Bazzi</td>\n",
       "      <td>2018-09-20 00:50</td>\n",
       "      <td>180000</td>\n",
       "      <td>Beautiful (feat. Camila Cabello)</td>\n",
       "    </tr>\n",
       "    <tr>\n",
       "      <th>4</th>\n",
       "      <td>Bazzi</td>\n",
       "      <td>2018-09-20 00:50</td>\n",
       "      <td>12032</td>\n",
       "      <td>Beautiful (feat. Camila Cabello)</td>\n",
       "    </tr>\n",
       "  </tbody>\n",
       "</table>\n",
       "</div>"
      ],
      "text/plain": [
       "    artistName           endTime  msPlayed                         trackName\n",
       "0  Loud Luxury  2018-09-20 00:50     43263               Body (feat. brando)\n",
       "1          Sia  2018-09-20 00:50      2645                     Thunderclouds\n",
       "2   Kanye West  2018-09-20 00:50     15346            I Love It (& Lil Pump)\n",
       "3        Bazzi  2018-09-20 00:50    180000  Beautiful (feat. Camila Cabello)\n",
       "4        Bazzi  2018-09-20 00:50     12032  Beautiful (feat. Camila Cabello)"
      ]
     },
     "execution_count": 3,
     "metadata": {},
     "output_type": "execute_result"
    }
   ],
   "source": [
    "streams_df.head()"
   ]
  },
  {
   "cell_type": "code",
   "execution_count": 4,
   "metadata": {},
   "outputs": [
    {
     "data": {
      "text/plain": [
       "4797"
      ]
     },
     "execution_count": 4,
     "metadata": {},
     "output_type": "execute_result"
    }
   ],
   "source": [
    "len(streams_df)"
   ]
  },
  {
   "cell_type": "code",
   "execution_count": 5,
   "metadata": {},
   "outputs": [
    {
     "data": {
      "text/plain": [
       "'2018-12-19 23:21'"
      ]
     },
     "execution_count": 5,
     "metadata": {},
     "output_type": "execute_result"
    }
   ],
   "source": [
    "streams_df.endTime.max()"
   ]
  },
  {
   "cell_type": "code",
   "execution_count": 6,
   "metadata": {},
   "outputs": [
    {
     "data": {
      "text/plain": [
       "'2018-09-20 00:50'"
      ]
     },
     "execution_count": 6,
     "metadata": {},
     "output_type": "execute_result"
    }
   ],
   "source": [
    "streams_df.endTime.min()"
   ]
  },
  {
   "cell_type": "code",
   "execution_count": 7,
   "metadata": {},
   "outputs": [],
   "source": [
    "streams_df['sPlayed'] = round(streams_df['msPlayed']/1000)\n",
    "streams_df['mPlayed'] = round(streams_df['sPlayed']/60)"
   ]
  },
  {
   "cell_type": "code",
   "execution_count": 8,
   "metadata": {},
   "outputs": [
    {
     "data": {
      "text/plain": [
       "count    4797.000000\n",
       "mean        1.802585\n",
       "std         3.594432\n",
       "min         0.000000\n",
       "25%         0.000000\n",
       "50%         1.000000\n",
       "75%         3.000000\n",
       "max        64.000000\n",
       "Name: mPlayed, dtype: float64"
      ]
     },
     "execution_count": 8,
     "metadata": {},
     "output_type": "execute_result"
    }
   ],
   "source": [
    "streams_df['mPlayed'].describe()"
   ]
  },
  {
   "cell_type": "code",
   "execution_count": 9,
   "metadata": {},
   "outputs": [
    {
     "data": {
      "text/plain": [
       "<matplotlib.axes._subplots.AxesSubplot at 0x1a218596d8>"
      ]
     },
     "execution_count": 9,
     "metadata": {},
     "output_type": "execute_result"
    },
    {
     "data": {
      "image/png": "[encoded data removed]",
      "text/plain": [
       "<Figure size 432x288 with 1 Axes>"
      ]
     },
     "metadata": {
      "needs_background": "light"
     },
     "output_type": "display_data"
    }
   ],
   "source": [
    "sns.boxplot(streams_df.mPlayed)"
   ]
  },
  {
   "cell_type": "code",
   "execution_count": 10,
   "metadata": {},
   "outputs": [
    {
     "data": {
      "text/html": [
       "<div>\n",
       "<style scoped>\n",
       "    .dataframe tbody tr th:only-of-type {\n",
       "        vertical-align: middle;\n",
       "    }\n",
       "\n",
       "    .dataframe tbody tr th {\n",
       "        vertical-align: top;\n",
       "    }\n",
       "\n",
       "    .dataframe thead th {\n",
       "        text-align: right;\n",
       "    }\n",
       "</style>\n",
       "<table border=\"1\" class=\"dataframe\">\n",
       "  <thead>\n",
       "    <tr style=\"text-align: right;\">\n",
       "      <th></th>\n",
       "      <th>artistName</th>\n",
       "      <th>endTime</th>\n",
       "      <th>msPlayed</th>\n",
       "      <th>trackName</th>\n",
       "      <th>sPlayed</th>\n",
       "      <th>mPlayed</th>\n",
       "    </tr>\n",
       "  </thead>\n",
       "  <tbody>\n",
       "    <tr>\n",
       "      <th>17</th>\n",
       "      <td>Today, Explained</td>\n",
       "      <td>2018-09-20 00:50</td>\n",
       "      <td>1362233</td>\n",
       "      <td>Back to Juul</td>\n",
       "      <td>1362.0</td>\n",
       "      <td>23.0</td>\n",
       "    </tr>\n",
       "    <tr>\n",
       "      <th>132</th>\n",
       "      <td>Today, Explained</td>\n",
       "      <td>2018-09-20 19:33</td>\n",
       "      <td>1442560</td>\n",
       "      <td>Have you talked to God about this?</td>\n",
       "      <td>1443.0</td>\n",
       "      <td>24.0</td>\n",
       "    </tr>\n",
       "    <tr>\n",
       "      <th>175</th>\n",
       "      <td>Today, Explained</td>\n",
       "      <td>2018-09-21 18:19</td>\n",
       "      <td>1693248</td>\n",
       "      <td>elon r u ok</td>\n",
       "      <td>1693.0</td>\n",
       "      <td>28.0</td>\n",
       "    </tr>\n",
       "    <tr>\n",
       "      <th>192</th>\n",
       "      <td>Today, Explained</td>\n",
       "      <td>2018-09-21 22:27</td>\n",
       "      <td>1447758</td>\n",
       "      <td>China's concentration camps</td>\n",
       "      <td>1448.0</td>\n",
       "      <td>24.0</td>\n",
       "    </tr>\n",
       "    <tr>\n",
       "      <th>308</th>\n",
       "      <td>The Science of Happiness</td>\n",
       "      <td>2018-09-24 12:56</td>\n",
       "      <td>787095</td>\n",
       "      <td>Why You Shouldn't Hate Small Talk</td>\n",
       "      <td>787.0</td>\n",
       "      <td>13.0</td>\n",
       "    </tr>\n",
       "    <tr>\n",
       "      <th>346</th>\n",
       "      <td>Ringer FC</td>\n",
       "      <td>2018-09-25 00:23</td>\n",
       "      <td>3824768</td>\n",
       "      <td>Are Liverpool Just Better Than PSG? | Ringer F...</td>\n",
       "      <td>3825.0</td>\n",
       "      <td>64.0</td>\n",
       "    </tr>\n",
       "    <tr>\n",
       "      <th>358</th>\n",
       "      <td>The Ringer NBA Show</td>\n",
       "      <td>2018-09-25 18:52</td>\n",
       "      <td>1729408</td>\n",
       "      <td>Jimmy Butler v. the Timberwolves, the Lakers’ ...</td>\n",
       "      <td>1729.0</td>\n",
       "      <td>29.0</td>\n",
       "    </tr>\n",
       "    <tr>\n",
       "      <th>404</th>\n",
       "      <td>The Ringer NBA Show</td>\n",
       "      <td>2018-09-25 22:37</td>\n",
       "      <td>1721194</td>\n",
       "      <td>Jimmy Butler v. the Timberwolves, the Lakers’ ...</td>\n",
       "      <td>1721.0</td>\n",
       "      <td>29.0</td>\n",
       "    </tr>\n",
       "    <tr>\n",
       "      <th>486</th>\n",
       "      <td>Slow Burn</td>\n",
       "      <td>2018-09-26 13:09</td>\n",
       "      <td>1670442</td>\n",
       "      <td>S2 Ep. 7: Bedfellows</td>\n",
       "      <td>1670.0</td>\n",
       "      <td>28.0</td>\n",
       "    </tr>\n",
       "    <tr>\n",
       "      <th>487</th>\n",
       "      <td>Slow Burn</td>\n",
       "      <td>2018-09-26 13:31</td>\n",
       "      <td>724976</td>\n",
       "      <td>S2 Ep. 7: Bedfellows</td>\n",
       "      <td>725.0</td>\n",
       "      <td>12.0</td>\n",
       "    </tr>\n",
       "  </tbody>\n",
       "</table>\n",
       "</div>"
      ],
      "text/plain": [
       "                   artistName           endTime  msPlayed  \\\n",
       "17           Today, Explained  2018-09-20 00:50   1362233   \n",
       "132          Today, Explained  2018-09-20 19:33   1442560   \n",
       "175          Today, Explained  2018-09-21 18:19   1693248   \n",
       "192          Today, Explained  2018-09-21 22:27   1447758   \n",
       "308  The Science of Happiness  2018-09-24 12:56    787095   \n",
       "346                 Ringer FC  2018-09-25 00:23   3824768   \n",
       "358       The Ringer NBA Show  2018-09-25 18:52   1729408   \n",
       "404       The Ringer NBA Show  2018-09-25 22:37   1721194   \n",
       "486                 Slow Burn  2018-09-26 13:09   1670442   \n",
       "487                 Slow Burn  2018-09-26 13:31    724976   \n",
       "\n",
       "                                             trackName  sPlayed  mPlayed  \n",
       "17                                        Back to Juul   1362.0     23.0  \n",
       "132                 Have you talked to God about this?   1443.0     24.0  \n",
       "175                                        elon r u ok   1693.0     28.0  \n",
       "192                        China's concentration camps   1448.0     24.0  \n",
       "308                  Why You Shouldn't Hate Small Talk    787.0     13.0  \n",
       "346  Are Liverpool Just Better Than PSG? | Ringer F...   3825.0     64.0  \n",
       "358  Jimmy Butler v. the Timberwolves, the Lakers’ ...   1729.0     29.0  \n",
       "404  Jimmy Butler v. the Timberwolves, the Lakers’ ...   1721.0     29.0  \n",
       "486                               S2 Ep. 7: Bedfellows   1670.0     28.0  \n",
       "487                               S2 Ep. 7: Bedfellows    725.0     12.0  "
      ]
     },
     "execution_count": 10,
     "metadata": {},
     "output_type": "execute_result"
    }
   ],
   "source": [
    "streams_df[streams_df['mPlayed']>=10].head(n=10)"
   ]
  },
  {
   "cell_type": "markdown",
   "metadata": {},
   "source": [
    "Looks like some of the longer streams are podcasts."
   ]
  },
  {
   "cell_type": "code",
   "execution_count": 11,
   "metadata": {},
   "outputs": [
    {
     "data": {
      "text/plain": [
       "datetime.datetime(2018, 9, 20, 0, 50)"
      ]
     },
     "execution_count": 11,
     "metadata": {},
     "output_type": "execute_result"
    }
   ],
   "source": [
    "import datetime\n",
    "datetime.datetime.strptime(streams_df.endTime[0], \"%Y-%m-%d %H:%M\")"
   ]
  },
  {
   "cell_type": "code",
   "execution_count": 12,
   "metadata": {},
   "outputs": [],
   "source": [
    "streams_df['hour_of_day'] = streams_df['endTime'].apply(lambda x: datetime.datetime.strptime(x, \"%Y-%m-%d %H:%M\").hour)"
   ]
  },
  {
   "cell_type": "code",
   "execution_count": 13,
   "metadata": {},
   "outputs": [
    {
     "data": {
      "text/html": [
       "<div>\n",
       "<style scoped>\n",
       "    .dataframe tbody tr th:only-of-type {\n",
       "        vertical-align: middle;\n",
       "    }\n",
       "\n",
       "    .dataframe tbody tr th {\n",
       "        vertical-align: top;\n",
       "    }\n",
       "\n",
       "    .dataframe thead th {\n",
       "        text-align: right;\n",
       "    }\n",
       "</style>\n",
       "<table border=\"1\" class=\"dataframe\">\n",
       "  <thead>\n",
       "    <tr style=\"text-align: right;\">\n",
       "      <th></th>\n",
       "      <th>artistName</th>\n",
       "      <th>endTime</th>\n",
       "      <th>msPlayed</th>\n",
       "      <th>trackName</th>\n",
       "      <th>sPlayed</th>\n",
       "      <th>mPlayed</th>\n",
       "      <th>hour_of_day</th>\n",
       "    </tr>\n",
       "  </thead>\n",
       "  <tbody>\n",
       "    <tr>\n",
       "      <th>0</th>\n",
       "      <td>Loud Luxury</td>\n",
       "      <td>2018-09-20 00:50</td>\n",
       "      <td>43263</td>\n",
       "      <td>Body (feat. brando)</td>\n",
       "      <td>43.0</td>\n",
       "      <td>1.0</td>\n",
       "      <td>0</td>\n",
       "    </tr>\n",
       "    <tr>\n",
       "      <th>1</th>\n",
       "      <td>Sia</td>\n",
       "      <td>2018-09-20 00:50</td>\n",
       "      <td>2645</td>\n",
       "      <td>Thunderclouds</td>\n",
       "      <td>3.0</td>\n",
       "      <td>0.0</td>\n",
       "      <td>0</td>\n",
       "    </tr>\n",
       "    <tr>\n",
       "      <th>2</th>\n",
       "      <td>Kanye West</td>\n",
       "      <td>2018-09-20 00:50</td>\n",
       "      <td>15346</td>\n",
       "      <td>I Love It (&amp; Lil Pump)</td>\n",
       "      <td>15.0</td>\n",
       "      <td>0.0</td>\n",
       "      <td>0</td>\n",
       "    </tr>\n",
       "    <tr>\n",
       "      <th>3</th>\n",
       "      <td>Bazzi</td>\n",
       "      <td>2018-09-20 00:50</td>\n",
       "      <td>180000</td>\n",
       "      <td>Beautiful (feat. Camila Cabello)</td>\n",
       "      <td>180.0</td>\n",
       "      <td>3.0</td>\n",
       "      <td>0</td>\n",
       "    </tr>\n",
       "    <tr>\n",
       "      <th>4</th>\n",
       "      <td>Bazzi</td>\n",
       "      <td>2018-09-20 00:50</td>\n",
       "      <td>12032</td>\n",
       "      <td>Beautiful (feat. Camila Cabello)</td>\n",
       "      <td>12.0</td>\n",
       "      <td>0.0</td>\n",
       "      <td>0</td>\n",
       "    </tr>\n",
       "  </tbody>\n",
       "</table>\n",
       "</div>"
      ],
      "text/plain": [
       "    artistName           endTime  msPlayed                         trackName  \\\n",
       "0  Loud Luxury  2018-09-20 00:50     43263               Body (feat. brando)   \n",
       "1          Sia  2018-09-20 00:50      2645                     Thunderclouds   \n",
       "2   Kanye West  2018-09-20 00:50     15346            I Love It (& Lil Pump)   \n",
       "3        Bazzi  2018-09-20 00:50    180000  Beautiful (feat. Camila Cabello)   \n",
       "4        Bazzi  2018-09-20 00:50     12032  Beautiful (feat. Camila Cabello)   \n",
       "\n",
       "   sPlayed  mPlayed  hour_of_day  \n",
       "0     43.0      1.0            0  \n",
       "1      3.0      0.0            0  \n",
       "2     15.0      0.0            0  \n",
       "3    180.0      3.0            0  \n",
       "4     12.0      0.0            0  "
      ]
     },
     "execution_count": 13,
     "metadata": {},
     "output_type": "execute_result"
    }
   ],
   "source": [
    "streams_df.head()"
   ]
  },
  {
   "cell_type": "code",
   "execution_count": 14,
   "metadata": {},
   "outputs": [
    {
     "data": {
      "text/plain": [
       "Text(0.5,1,'Streaming time in minutes by hour of day')"
      ]
     },
     "execution_count": 14,
     "metadata": {},
     "output_type": "execute_result"
    },
    {
     "data": {
      "image/png": "[encoded data removed]",
      "text/plain": [
       "<Figure size 576x360 with 1 Axes>"
      ]
     },
     "metadata": {
      "needs_background": "light"
     },
     "output_type": "display_data"
    }
   ],
   "source": [
    "hour_of_day = streams_df.groupby('hour_of_day').sum()['mPlayed'].reset_index(name='mPlayed')\n",
    "\n",
    "\n",
    "plt.figure(figsize=(8,5))\n",
    "plt.bar(hour_of_day['hour_of_day'], hour_of_day['mPlayed'])\n",
    "plt.title(\"Streaming time in minutes by hour of day\")"
   ]
  },
  {
   "cell_type": "markdown",
   "metadata": {},
   "source": [
    "My time spent on Spotify peaks during my commute home (6-8pm) and late at night (12-1am)."
   ]
  },
  {
   "cell_type": "code",
   "execution_count": 15,
   "metadata": {},
   "outputs": [],
   "source": [
    "streams_df['day_of_week'] = streams_df['endTime'].apply(lambda x: datetime.datetime.strptime(x, \"%Y-%m-%d %H:%M\").weekday())"
   ]
  },
  {
   "cell_type": "code",
   "execution_count": 16,
   "metadata": {},
   "outputs": [
    {
     "data": {
      "text/html": [
       "<div>\n",
       "<style scoped>\n",
       "    .dataframe tbody tr th:only-of-type {\n",
       "        vertical-align: middle;\n",
       "    }\n",
       "\n",
       "    .dataframe tbody tr th {\n",
       "        vertical-align: top;\n",
       "    }\n",
       "\n",
       "    .dataframe thead th {\n",
       "        text-align: right;\n",
       "    }\n",
       "</style>\n",
       "<table border=\"1\" class=\"dataframe\">\n",
       "  <thead>\n",
       "    <tr style=\"text-align: right;\">\n",
       "      <th></th>\n",
       "      <th>day_of_week</th>\n",
       "      <th>mPlayed</th>\n",
       "    </tr>\n",
       "  </thead>\n",
       "  <tbody>\n",
       "    <tr>\n",
       "      <th>0</th>\n",
       "      <td>0</td>\n",
       "      <td>1277.0</td>\n",
       "    </tr>\n",
       "    <tr>\n",
       "      <th>1</th>\n",
       "      <td>1</td>\n",
       "      <td>1685.0</td>\n",
       "    </tr>\n",
       "    <tr>\n",
       "      <th>2</th>\n",
       "      <td>2</td>\n",
       "      <td>1394.0</td>\n",
       "    </tr>\n",
       "    <tr>\n",
       "      <th>3</th>\n",
       "      <td>3</td>\n",
       "      <td>1523.0</td>\n",
       "    </tr>\n",
       "    <tr>\n",
       "      <th>4</th>\n",
       "      <td>4</td>\n",
       "      <td>1117.0</td>\n",
       "    </tr>\n",
       "    <tr>\n",
       "      <th>5</th>\n",
       "      <td>5</td>\n",
       "      <td>829.0</td>\n",
       "    </tr>\n",
       "    <tr>\n",
       "      <th>6</th>\n",
       "      <td>6</td>\n",
       "      <td>822.0</td>\n",
       "    </tr>\n",
       "  </tbody>\n",
       "</table>\n",
       "</div>"
      ],
      "text/plain": [
       "   day_of_week  mPlayed\n",
       "0            0   1277.0\n",
       "1            1   1685.0\n",
       "2            2   1394.0\n",
       "3            3   1523.0\n",
       "4            4   1117.0\n",
       "5            5    829.0\n",
       "6            6    822.0"
      ]
     },
     "execution_count": 16,
     "metadata": {},
     "output_type": "execute_result"
    }
   ],
   "source": [
    "streams_df.groupby('day_of_week').sum()['mPlayed'].reset_index(name='mPlayed')"
   ]
  },
  {
   "cell_type": "markdown",
   "metadata": {},
   "source": [
    "I listen to more on the weekdays vs. weekends. This makes sense since I probably listen more during working hours (9-5pm on weekdays) on weekdays vs. weekends. Let's look at day of week vs. hour of day breakdown..."
   ]
  },
  {
   "cell_type": "code",
   "execution_count": 17,
   "metadata": {},
   "outputs": [
    {
     "data": {
      "text/html": [
       "<div>\n",
       "<style scoped>\n",
       "    .dataframe tbody tr th:only-of-type {\n",
       "        vertical-align: middle;\n",
       "    }\n",
       "\n",
       "    .dataframe tbody tr th {\n",
       "        vertical-align: top;\n",
       "    }\n",
       "\n",
       "    .dataframe thead th {\n",
       "        text-align: right;\n",
       "    }\n",
       "</style>\n",
       "<table border=\"1\" class=\"dataframe\">\n",
       "  <thead>\n",
       "    <tr style=\"text-align: right;\">\n",
       "      <th></th>\n",
       "      <th>artistName</th>\n",
       "      <th>endTime</th>\n",
       "      <th>msPlayed</th>\n",
       "      <th>trackName</th>\n",
       "      <th>sPlayed</th>\n",
       "      <th>mPlayed</th>\n",
       "      <th>hour_of_day</th>\n",
       "      <th>day_of_week</th>\n",
       "    </tr>\n",
       "  </thead>\n",
       "  <tbody>\n",
       "    <tr>\n",
       "      <th>0</th>\n",
       "      <td>Loud Luxury</td>\n",
       "      <td>2018-09-20 00:50</td>\n",
       "      <td>43263</td>\n",
       "      <td>Body (feat. brando)</td>\n",
       "      <td>43.0</td>\n",
       "      <td>1.0</td>\n",
       "      <td>0</td>\n",
       "      <td>3</td>\n",
       "    </tr>\n",
       "    <tr>\n",
       "      <th>1</th>\n",
       "      <td>Sia</td>\n",
       "      <td>2018-09-20 00:50</td>\n",
       "      <td>2645</td>\n",
       "      <td>Thunderclouds</td>\n",
       "      <td>3.0</td>\n",
       "      <td>0.0</td>\n",
       "      <td>0</td>\n",
       "      <td>3</td>\n",
       "    </tr>\n",
       "    <tr>\n",
       "      <th>2</th>\n",
       "      <td>Kanye West</td>\n",
       "      <td>2018-09-20 00:50</td>\n",
       "      <td>15346</td>\n",
       "      <td>I Love It (&amp; Lil Pump)</td>\n",
       "      <td>15.0</td>\n",
       "      <td>0.0</td>\n",
       "      <td>0</td>\n",
       "      <td>3</td>\n",
       "    </tr>\n",
       "    <tr>\n",
       "      <th>3</th>\n",
       "      <td>Bazzi</td>\n",
       "      <td>2018-09-20 00:50</td>\n",
       "      <td>180000</td>\n",
       "      <td>Beautiful (feat. Camila Cabello)</td>\n",
       "      <td>180.0</td>\n",
       "      <td>3.0</td>\n",
       "      <td>0</td>\n",
       "      <td>3</td>\n",
       "    </tr>\n",
       "    <tr>\n",
       "      <th>4</th>\n",
       "      <td>Bazzi</td>\n",
       "      <td>2018-09-20 00:50</td>\n",
       "      <td>12032</td>\n",
       "      <td>Beautiful (feat. Camila Cabello)</td>\n",
       "      <td>12.0</td>\n",
       "      <td>0.0</td>\n",
       "      <td>0</td>\n",
       "      <td>3</td>\n",
       "    </tr>\n",
       "  </tbody>\n",
       "</table>\n",
       "</div>"
      ],
      "text/plain": [
       "    artistName           endTime  msPlayed                         trackName  \\\n",
       "0  Loud Luxury  2018-09-20 00:50     43263               Body (feat. brando)   \n",
       "1          Sia  2018-09-20 00:50      2645                     Thunderclouds   \n",
       "2   Kanye West  2018-09-20 00:50     15346            I Love It (& Lil Pump)   \n",
       "3        Bazzi  2018-09-20 00:50    180000  Beautiful (feat. Camila Cabello)   \n",
       "4        Bazzi  2018-09-20 00:50     12032  Beautiful (feat. Camila Cabello)   \n",
       "\n",
       "   sPlayed  mPlayed  hour_of_day  day_of_week  \n",
       "0     43.0      1.0            0            3  \n",
       "1      3.0      0.0            0            3  \n",
       "2     15.0      0.0            0            3  \n",
       "3    180.0      3.0            0            3  \n",
       "4     12.0      0.0            0            3  "
      ]
     },
     "execution_count": 17,
     "metadata": {},
     "output_type": "execute_result"
    }
   ],
   "source": [
    "streams_df.head()"
   ]
  },
  {
   "cell_type": "code",
   "execution_count": 18,
   "metadata": {},
   "outputs": [],
   "source": [
    "streams_df['date_hour'] = (streams_df['endTime']\n",
    "                          .apply(lambda x: datetime.datetime.strptime(x, \"%Y-%m-%d %H:%M\").replace(minute=0, second=0, microsecond=0))\n",
    "                          )"
   ]
  },
  {
   "cell_type": "code",
   "execution_count": 19,
   "metadata": {},
   "outputs": [],
   "source": [
    "agg_streams_df = streams_df.groupby(['date_hour']).sum()['mPlayed'].reset_index()"
   ]
  },
  {
   "cell_type": "code",
   "execution_count": 20,
   "metadata": {},
   "outputs": [],
   "source": [
    "agg_streams_df['day_of_week'] = agg_streams_df['date_hour'].apply(lambda x: x.weekday())"
   ]
  },
  {
   "cell_type": "code",
   "execution_count": 21,
   "metadata": {},
   "outputs": [
    {
     "data": {
      "text/html": [
       "<div>\n",
       "<style scoped>\n",
       "    .dataframe tbody tr th:only-of-type {\n",
       "        vertical-align: middle;\n",
       "    }\n",
       "\n",
       "    .dataframe tbody tr th {\n",
       "        vertical-align: top;\n",
       "    }\n",
       "\n",
       "    .dataframe thead th {\n",
       "        text-align: right;\n",
       "    }\n",
       "</style>\n",
       "<table border=\"1\" class=\"dataframe\">\n",
       "  <thead>\n",
       "    <tr style=\"text-align: right;\">\n",
       "      <th></th>\n",
       "      <th>date_hour</th>\n",
       "      <th>mPlayed</th>\n",
       "      <th>day_of_week</th>\n",
       "    </tr>\n",
       "  </thead>\n",
       "  <tbody>\n",
       "    <tr>\n",
       "      <th>0</th>\n",
       "      <td>2018-09-20 00:00:00</td>\n",
       "      <td>51.0</td>\n",
       "      <td>3</td>\n",
       "    </tr>\n",
       "    <tr>\n",
       "      <th>1</th>\n",
       "      <td>2018-09-20 01:00:00</td>\n",
       "      <td>48.0</td>\n",
       "      <td>3</td>\n",
       "    </tr>\n",
       "    <tr>\n",
       "      <th>2</th>\n",
       "      <td>2018-09-20 02:00:00</td>\n",
       "      <td>16.0</td>\n",
       "      <td>3</td>\n",
       "    </tr>\n",
       "    <tr>\n",
       "      <th>3</th>\n",
       "      <td>2018-09-20 12:00:00</td>\n",
       "      <td>12.0</td>\n",
       "      <td>3</td>\n",
       "    </tr>\n",
       "    <tr>\n",
       "      <th>4</th>\n",
       "      <td>2018-09-20 13:00:00</td>\n",
       "      <td>3.0</td>\n",
       "      <td>3</td>\n",
       "    </tr>\n",
       "  </tbody>\n",
       "</table>\n",
       "</div>"
      ],
      "text/plain": [
       "            date_hour  mPlayed  day_of_week\n",
       "0 2018-09-20 00:00:00     51.0            3\n",
       "1 2018-09-20 01:00:00     48.0            3\n",
       "2 2018-09-20 02:00:00     16.0            3\n",
       "3 2018-09-20 12:00:00     12.0            3\n",
       "4 2018-09-20 13:00:00      3.0            3"
      ]
     },
     "execution_count": 21,
     "metadata": {},
     "output_type": "execute_result"
    }
   ],
   "source": [
    "agg_streams_df.head()"
   ]
  },
  {
   "cell_type": "code",
   "execution_count": 22,
   "metadata": {},
   "outputs": [
    {
     "data": {
      "text/plain": [
       "Timestamp('2018-09-20 00:00:00')"
      ]
     },
     "execution_count": 22,
     "metadata": {},
     "output_type": "execute_result"
    }
   ],
   "source": [
    "agg_streams_df.date_hour.min()"
   ]
  },
  {
   "cell_type": "code",
   "execution_count": 23,
   "metadata": {},
   "outputs": [
    {
     "data": {
      "text/plain": [
       "Timestamp('2018-12-19 23:00:00')"
      ]
     },
     "execution_count": 23,
     "metadata": {},
     "output_type": "execute_result"
    }
   ],
   "source": [
    "agg_streams_df.date_hour.max()"
   ]
  },
  {
   "cell_type": "markdown",
   "metadata": {},
   "source": [
    "There are some gaps in the data for hours of a specific day where I did not use Spotify, we want to fill out those time slots with 0 minutes played in our dataframe. To start, we generate an array of all date-hour combo between the start and end of our data."
   ]
  },
  {
   "cell_type": "code",
   "execution_count": 24,
   "metadata": {},
   "outputs": [],
   "source": [
    "time_range = pd.date_range(start=agg_streams_df.date_hour.min(), end=agg_streams_df.date_hour.max(), freq='H')"
   ]
  },
  {
   "cell_type": "code",
   "execution_count": 25,
   "metadata": {},
   "outputs": [
    {
     "data": {
      "text/plain": [
       "DatetimeIndex(['2018-09-20 00:00:00', '2018-09-20 01:00:00',\n",
       "               '2018-09-20 02:00:00', '2018-09-20 03:00:00',\n",
       "               '2018-09-20 04:00:00', '2018-09-20 05:00:00',\n",
       "               '2018-09-20 06:00:00', '2018-09-20 07:00:00',\n",
       "               '2018-09-20 08:00:00', '2018-09-20 09:00:00',\n",
       "               ...\n",
       "               '2018-12-19 14:00:00', '2018-12-19 15:00:00',\n",
       "               '2018-12-19 16:00:00', '2018-12-19 17:00:00',\n",
       "               '2018-12-19 18:00:00', '2018-12-19 19:00:00',\n",
       "               '2018-12-19 20:00:00', '2018-12-19 21:00:00',\n",
       "               '2018-12-19 22:00:00', '2018-12-19 23:00:00'],\n",
       "              dtype='datetime64[ns]', length=2184, freq='H')"
      ]
     },
     "execution_count": 25,
     "metadata": {},
     "output_type": "execute_result"
    }
   ],
   "source": [
    "time_range"
   ]
  },
  {
   "cell_type": "code",
   "execution_count": 26,
   "metadata": {},
   "outputs": [],
   "source": [
    "date_hour_df = pd.DataFrame(time_range, columns=['date_hour'])"
   ]
  },
  {
   "cell_type": "code",
   "execution_count": 27,
   "metadata": {},
   "outputs": [
    {
     "data": {
      "text/plain": [
       "2184"
      ]
     },
     "execution_count": 27,
     "metadata": {},
     "output_type": "execute_result"
    }
   ],
   "source": [
    "len(date_hour_df)"
   ]
  },
  {
   "cell_type": "code",
   "execution_count": 28,
   "metadata": {},
   "outputs": [],
   "source": [
    "agg_streams_df = pd.merge(date_hour_df, agg_streams_df, on=['date_hour'], how='left')"
   ]
  },
  {
   "cell_type": "code",
   "execution_count": 29,
   "metadata": {},
   "outputs": [
    {
     "data": {
      "text/plain": [
       "True"
      ]
     },
     "execution_count": 29,
     "metadata": {},
     "output_type": "execute_result"
    }
   ],
   "source": [
    "len(agg_streams_df) == len(date_hour_df)"
   ]
  },
  {
   "cell_type": "code",
   "execution_count": 30,
   "metadata": {},
   "outputs": [
    {
     "data": {
      "text/html": [
       "<div>\n",
       "<style scoped>\n",
       "    .dataframe tbody tr th:only-of-type {\n",
       "        vertical-align: middle;\n",
       "    }\n",
       "\n",
       "    .dataframe tbody tr th {\n",
       "        vertical-align: top;\n",
       "    }\n",
       "\n",
       "    .dataframe thead th {\n",
       "        text-align: right;\n",
       "    }\n",
       "</style>\n",
       "<table border=\"1\" class=\"dataframe\">\n",
       "  <thead>\n",
       "    <tr style=\"text-align: right;\">\n",
       "      <th></th>\n",
       "      <th>date_hour</th>\n",
       "      <th>mPlayed</th>\n",
       "      <th>day_of_week</th>\n",
       "    </tr>\n",
       "  </thead>\n",
       "  <tbody>\n",
       "    <tr>\n",
       "      <th>0</th>\n",
       "      <td>2018-09-20 00:00:00</td>\n",
       "      <td>51.0</td>\n",
       "      <td>3.0</td>\n",
       "    </tr>\n",
       "    <tr>\n",
       "      <th>1</th>\n",
       "      <td>2018-09-20 01:00:00</td>\n",
       "      <td>48.0</td>\n",
       "      <td>3.0</td>\n",
       "    </tr>\n",
       "    <tr>\n",
       "      <th>2</th>\n",
       "      <td>2018-09-20 02:00:00</td>\n",
       "      <td>16.0</td>\n",
       "      <td>3.0</td>\n",
       "    </tr>\n",
       "    <tr>\n",
       "      <th>3</th>\n",
       "      <td>2018-09-20 03:00:00</td>\n",
       "      <td>NaN</td>\n",
       "      <td>NaN</td>\n",
       "    </tr>\n",
       "    <tr>\n",
       "      <th>4</th>\n",
       "      <td>2018-09-20 04:00:00</td>\n",
       "      <td>NaN</td>\n",
       "      <td>NaN</td>\n",
       "    </tr>\n",
       "  </tbody>\n",
       "</table>\n",
       "</div>"
      ],
      "text/plain": [
       "            date_hour  mPlayed  day_of_week\n",
       "0 2018-09-20 00:00:00     51.0          3.0\n",
       "1 2018-09-20 01:00:00     48.0          3.0\n",
       "2 2018-09-20 02:00:00     16.0          3.0\n",
       "3 2018-09-20 03:00:00      NaN          NaN\n",
       "4 2018-09-20 04:00:00      NaN          NaN"
      ]
     },
     "execution_count": 30,
     "metadata": {},
     "output_type": "execute_result"
    }
   ],
   "source": [
    "agg_streams_df.head()"
   ]
  },
  {
   "cell_type": "code",
   "execution_count": 31,
   "metadata": {},
   "outputs": [],
   "source": [
    "agg_streams_df['mPlayed'] = agg_streams_df['mPlayed'].fillna(0)"
   ]
  },
  {
   "cell_type": "code",
   "execution_count": 32,
   "metadata": {},
   "outputs": [],
   "source": [
    "agg_streams_df['hour_of_day'] = agg_streams_df['date_hour'].apply(lambda x: x.hour)\n",
    "agg_streams_df['day_of_week'] = agg_streams_df['date_hour'].apply(lambda x: x.weekday())"
   ]
  },
  {
   "cell_type": "code",
   "execution_count": 33,
   "metadata": {},
   "outputs": [
    {
     "data": {
      "text/html": [
       "<div>\n",
       "<style scoped>\n",
       "    .dataframe tbody tr th:only-of-type {\n",
       "        vertical-align: middle;\n",
       "    }\n",
       "\n",
       "    .dataframe tbody tr th {\n",
       "        vertical-align: top;\n",
       "    }\n",
       "\n",
       "    .dataframe thead th {\n",
       "        text-align: right;\n",
       "    }\n",
       "</style>\n",
       "<table border=\"1\" class=\"dataframe\">\n",
       "  <thead>\n",
       "    <tr style=\"text-align: right;\">\n",
       "      <th></th>\n",
       "      <th>date_hour</th>\n",
       "      <th>mPlayed</th>\n",
       "      <th>day_of_week</th>\n",
       "      <th>hour_of_day</th>\n",
       "    </tr>\n",
       "  </thead>\n",
       "  <tbody>\n",
       "    <tr>\n",
       "      <th>0</th>\n",
       "      <td>2018-09-20 00:00:00</td>\n",
       "      <td>51.0</td>\n",
       "      <td>3</td>\n",
       "      <td>0</td>\n",
       "    </tr>\n",
       "    <tr>\n",
       "      <th>1</th>\n",
       "      <td>2018-09-20 01:00:00</td>\n",
       "      <td>48.0</td>\n",
       "      <td>3</td>\n",
       "      <td>1</td>\n",
       "    </tr>\n",
       "    <tr>\n",
       "      <th>2</th>\n",
       "      <td>2018-09-20 02:00:00</td>\n",
       "      <td>16.0</td>\n",
       "      <td>3</td>\n",
       "      <td>2</td>\n",
       "    </tr>\n",
       "    <tr>\n",
       "      <th>3</th>\n",
       "      <td>2018-09-20 03:00:00</td>\n",
       "      <td>0.0</td>\n",
       "      <td>3</td>\n",
       "      <td>3</td>\n",
       "    </tr>\n",
       "    <tr>\n",
       "      <th>4</th>\n",
       "      <td>2018-09-20 04:00:00</td>\n",
       "      <td>0.0</td>\n",
       "      <td>3</td>\n",
       "      <td>4</td>\n",
       "    </tr>\n",
       "  </tbody>\n",
       "</table>\n",
       "</div>"
      ],
      "text/plain": [
       "            date_hour  mPlayed  day_of_week  hour_of_day\n",
       "0 2018-09-20 00:00:00     51.0            3            0\n",
       "1 2018-09-20 01:00:00     48.0            3            1\n",
       "2 2018-09-20 02:00:00     16.0            3            2\n",
       "3 2018-09-20 03:00:00      0.0            3            3\n",
       "4 2018-09-20 04:00:00      0.0            3            4"
      ]
     },
     "execution_count": 33,
     "metadata": {},
     "output_type": "execute_result"
    }
   ],
   "source": [
    "agg_streams_df.head()"
   ]
  },
  {
   "cell_type": "code",
   "execution_count": 34,
   "metadata": {},
   "outputs": [],
   "source": [
    "day_hour_df = agg_streams_df.groupby(['day_of_week','hour_of_day']).mean()['mPlayed'].reset_index(name='mPlayed')"
   ]
  },
  {
   "cell_type": "code",
   "execution_count": 35,
   "metadata": {},
   "outputs": [],
   "source": [
    "day_hour_df['mPlayed'] = round(day_hour_df['mPlayed'])"
   ]
  },
  {
   "cell_type": "code",
   "execution_count": 36,
   "metadata": {},
   "outputs": [],
   "source": [
    "day_hour_df2 = day_hour_df.pivot(columns='day_of_week',index='hour_of_day',values='mPlayed')"
   ]
  },
  {
   "cell_type": "code",
   "execution_count": 38,
   "metadata": {},
   "outputs": [
    {
     "data": {
      "text/plain": [
       "<matplotlib.axes._subplots.AxesSubplot at 0x1a21dafc88>"
      ]
     },
     "execution_count": 38,
     "metadata": {},
     "output_type": "execute_result"
    },
    {
     "data": {
      "image/png": "[encoded data removed]",
      "text/plain": [
       "<Figure size 360x720 with 2 Axes>"
      ]
     },
     "metadata": {
      "needs_background": "light"
     },
     "output_type": "display_data"
    }
   ],
   "source": [
    "plt.figure(figsize=(5,10))\n",
    "sns.heatmap(day_hour_df2, cmap=\"YlGnBu\")"
   ]
  },
  {
   "cell_type": "markdown",
   "metadata": {},
   "source": [
    "A few observations:\n",
    "* I don't listen to Spotify on my morning commutes (between 8-10am depending when I leave the house)\n",
    "* I usually listen in the afternoon at work and heavily during my commute home (between 6-8pm depending when I leave work)\n",
    "* Weekend usage of Spotify is generally low compared to weekdays"
   ]
  },
  {
   "cell_type": "code",
   "execution_count": 39,
   "metadata": {},
   "outputs": [],
   "source": [
    "day_hour_df2.to_csv('spotify_streaming_habits.csv',index=False)"
   ]
  }
 ],
 "metadata": {
  "kernelspec": {
   "display_name": "py36",
   "language": "python",
   "name": "py36"
  },
  "language_info": {
   "codemirror_mode": {
    "name": "ipython",
    "version": 3
   },
   "file_extension": ".py",
   "mimetype": "text/x-python",
   "name": "python",
   "nbconvert_exporter": "python",
   "pygments_lexer": "ipython3",
   "version": "3.6.6"
  }
 },
 "nbformat": 4,
 "nbformat_minor": 2
}
